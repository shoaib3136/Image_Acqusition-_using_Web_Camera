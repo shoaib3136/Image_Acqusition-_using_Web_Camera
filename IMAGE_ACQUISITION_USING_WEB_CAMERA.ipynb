{
 "cells": [
  {
   "cell_type": "code",
   "execution_count": 14,
   "id": "f764a0c9-ad79-49e0-ab91-f5743714bdd2",
   "metadata": {},
   "outputs": [],
   "source": [
    "import cv2\n",
    "\n",
    "# Initialize the video capture object (0 is typically the default webcam)\n",
    "videoCaptureObject = cv2.VideoCapture(0)\n",
    "\n",
    "# Capture a single frame\n",
    "ret, frame = videoCaptureObject.read()\n",
    "\n",
    "# Check if the frame is captured successfully\n",
    "if ret:\n",
    "    # Save the captured image to a file\n",
    "    cv2.imwrite(\"shoaib.jpg\", frame)\n",
    "\n",
    "# Release the video capture object\n",
    "videoCaptureObject.release()\n",
    "\n",
    "# Close all OpenCV windows\n",
    "cv2.destroyAllWindows()\n"
   ]
  },
  {
   "cell_type": "code",
   "execution_count": 18,
   "id": "02064260-45ef-4ebb-874e-8f014c5c9966",
   "metadata": {},
   "outputs": [],
   "source": [
    "import numpy as np\n",
    "import cv2\n",
    "cap=cv2.VideoCapture(0)\n",
    "while True:\n",
    "    ret,frame=cap.read()\n",
    "    cv2.imshow('Shoaib',frame)\n",
    "    if cv2.waitKey(1)==ord('q'):\n",
    "        break\n",
    "cap.release()\n",
    "cv2.destroyAllWindows()"
   ]
  },
  {
   "cell_type": "code",
   "execution_count": 22,
   "id": "b15432ea-e81c-40b4-9852-6f1fc77d4d82",
   "metadata": {},
   "outputs": [],
   "source": [
    "import numpy as np\n",
    "import cv2\n",
    "cap=cv2.VideoCapture(0)\n",
    "while True:\n",
    "    ret,frame=cap.read()\n",
    "    width=int(cap.get(3))\n",
    "    height=int(cap.get(4))\n",
    "    image=np.zeros(frame.shape,np.uint8)\n",
    "    smaller_frame=cv2.resize(frame,(0,0),fx=0.5,fy=0.5)\n",
    "    image[:height//2, :width//2]=smaller_frame\n",
    "    image[height//2:, :width//2]=smaller_frame\n",
    "    image[:height//2, width//2:]=smaller_frame\n",
    "    image[height//2:, width//2:]=smaller_frame\n",
    "    cv2.imshow('212222240094-Shoaib',image)\n",
    "    if cv2.waitKey(1)==ord('q'):\n",
    "        break\n",
    "cap.release()\n",
    "cv2.destroyAllWindows()"
   ]
  },
  {
   "cell_type": "code",
   "execution_count": 27,
   "id": "cf749778-b7d8-47da-b09a-f4a141c7b739",
   "metadata": {},
   "outputs": [],
   "source": [
    "import numpy as np\n",
    "import cv2\n",
    "cap=cv2.VideoCapture(0)\n",
    "while True:\n",
    "    ret,frame=cap.read()\n",
    "    width=int(cap.get(3))\n",
    "    height=int(cap.get(4))\n",
    "    image=np.zeros(frame.shape,np.uint8)\n",
    "    smaller_frame=cv2.resize(frame,(0,0),fx=0.5,fy=0.5)\n",
    "    image[:height//2, :width//2]=cv2.rotate(smaller_frame,cv2.ROTATE_180)\n",
    "    image[height//2:, :width//2]=smaller_frame\n",
    "    image[:height//2, width//2:]=cv2.rotate(smaller_frame,cv2.ROTATE_180)\n",
    "    image[height//2:, width//2:]=smaller_frame\n",
    "    cv2.imshow('212222240094-Shoaib',image)\n",
    "    if cv2.waitKey(1)==ord('q'):\n",
    "        break\n",
    "cap.release()\n",
    "cv2.destroyAllWindows()"
   ]
  },
  {
   "cell_type": "code",
   "execution_count": null,
   "id": "33100ddb-7d7c-44c8-95fb-77f7d584d836",
   "metadata": {},
   "outputs": [],
   "source": []
  }
 ],
 "metadata": {
  "kernelspec": {
   "display_name": "Python 3 (ipykernel)",
   "language": "python",
   "name": "python3"
  },
  "language_info": {
   "codemirror_mode": {
    "name": "ipython",
    "version": 3
   },
   "file_extension": ".py",
   "mimetype": "text/x-python",
   "name": "python",
   "nbconvert_exporter": "python",
   "pygments_lexer": "ipython3",
   "version": "3.12.4"
  }
 },
 "nbformat": 4,
 "nbformat_minor": 5
}
